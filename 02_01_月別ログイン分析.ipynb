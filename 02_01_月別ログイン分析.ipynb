{
 "cells": [
  {
   "cell_type": "markdown",
   "metadata": {},
   "source": [
    "# 月別ログイン状況"
   ]
  },
  {
   "cell_type": "code",
   "execution_count": 101,
   "metadata": {},
   "outputs": [],
   "source": [
    "from pathlib import Path\n",
    "import matplotlib\n",
    "import math\n",
    "import re\n",
    "import datetime as dt\n",
    "import pandas as pd\n",
    "import numpy as np\n",
    "import matplotlib.pyplot as plt\n",
    "import seaborn as sns\n",
    "import plotly.graph_objects as go\n",
    "import sys\n",
    "sys.path.append('../../../utility/python/')\n",
    "from utility import (\n",
    "    semi_join, anti_join, preprocess_web_logs_screen_name, complement_data,\n",
    "    sub_days, plus_day, add_group_num, plot_two_axis_bar_line,plus_month\n",
    ")\n",
    "from utility import load_web_logs_from_bigquery, load_daily_user_logs_from_bigquery, load_data_from_db_with_script"
   ]
  },
  {
   "cell_type": "code",
   "execution_count": 102,
   "metadata": {},
   "outputs": [
    {
     "name": "stdout",
     "output_type": "stream",
     "text": [
      "The autoreload extension is already loaded. To reload it, use:\n",
      "  %reload_ext autoreload\n"
     ]
    }
   ],
   "source": [
    "%load_ext autoreload\n",
    "%autoreload 2\n",
    "pd.set_option('display.max_rows', 1000)\n",
    "pd.set_option('display.max_columns', 1000)"
   ]
  },
  {
   "cell_type": "code",
   "execution_count": 103,
   "metadata": {},
   "outputs": [],
   "source": [
    "data_dir_path = Path('data')\n",
    "result_dir_path = Path('result')\n",
    "if not data_dir_path.exists():\n",
    "    data_dir_path.mkdir(parents=True)"
   ]
  },
  {
   "cell_type": "markdown",
   "metadata": {},
   "source": [
    "データ集計日の指定  \n",
    "データの加工の際に使うことが多いため"
   ]
  },
  {
   "cell_type": "code",
   "execution_count": 104,
   "metadata": {},
   "outputs": [],
   "source": [
    "target_day = '2022-11-03'\n",
    "target_month = target_day[:7]"
   ]
  },
  {
   "cell_type": "code",
   "execution_count": 105,
   "metadata": {},
   "outputs": [],
   "source": [
    "mazrica_domain_ids = [1, 8, 2095]\n",
    "privilege_replace_dict = {1: '1_管理職', 2: '2_一般', 3: '2_一般'}\n",
    "daily_user_logs_name_dict = {\n",
    "    'deal_board': '案件ボード',\n",
    "    'deals_table': '案件一覧',\n",
    "    'actions_table': 'アクション一覧',\n",
    "    'customers_table': '取引先一覧',\n",
    "    'contacts_table': 'コンタクト一覧',\n",
    "    'campaigns_table': 'キャンペーン一覧',\n",
    "    'webforms_table': 'ウェブフォーム一覧',\n",
    "    'custom_reports_table': 'カスタムレポート一覧',\n",
    "    'dashboards_table': 'ダッシュボード一覧',\n",
    "    'deal_page': '案件ページ',\n",
    "    'action_page': 'アクションページ',\n",
    "    'customer_page': '取引先ページ',\n",
    "    'contact_page': 'コンタクトページ',\n",
    "    'campaign_page': 'キャンペーンページ',\n",
    "    'webform_page': 'ウェブフォームページ',\n",
    "    'custom_report_page': 'カスタムレポートページ',\n",
    "    'dashboard_page': 'ダッシュボードページ',\n",
    "    'notification_modal_page': '通知モーダルページ',\n",
    "    'reports': 'レポート系',\n",
    "    'customer_merge_candidate': '名寄せ_取引先',\n",
    "    'contact_merge_candidate': '名寄せ_コンタクト'\n",
    "}"
   ]
  },
  {
   "cell_type": "markdown",
   "metadata": {},
   "source": [
    "### データダウンロード"
   ]
  },
  {
   "cell_type": "code",
   "execution_count": 106,
   "metadata": {},
   "outputs": [],
   "source": [
    "domain_user_maps = pd.read_csv('domain_user_maps.csv')\n",
    "daily_user_logs = pd.read_csv(data_dir_path.joinpath('daily_user_logs.tsv'), sep='\\t')"
   ]
  },
  {
   "cell_type": "markdown",
   "metadata": {},
   "source": [
    "### 前処理"
   ]
  },
  {
   "cell_type": "markdown",
   "metadata": {},
   "source": [
    "#### 「domain_user_maps」の前処理"
   ]
  },
  {
   "cell_type": "markdown",
   "metadata": {},
   "source": [
    "・マツリカユーザー削除  \n",
    "・契約済みドメインのみを残す  \n",
    "　・「use_type」が 30 あるいは 40  \n",
    "・「contract_start_date」を文字列に変換  \n",
    "　・文字列としておくことで加工がしやすくなる  "
   ]
  },
  {
   "cell_type": "code",
   "execution_count": 107,
   "metadata": {},
   "outputs": [],
   "source": [
    "domain_user_maps = anti_join(domain_user_maps, pd.DataFrame({'domain_id': mazrica_domain_ids}), by='domain_id')\n",
    "domain_user_maps = domain_user_maps.query('use_type == 30 or use_type == 40', engine='python').assign(\n",
    "    contract_start_date=lambda x: x.contract_start_date.astype(str)\n",
    ")"
   ]
  },
  {
   "cell_type": "markdown",
   "metadata": {},
   "source": [
    "#### 「daily_user_logs」の前処理"
   ]
  },
  {
   "cell_type": "markdown",
   "metadata": {},
   "source": [
    "・「date」を文字列変換  \n",
    "　・文字列としておくことで加工がしやすくなる  \n",
    "・「domain_user_maps」との結合  \n",
    "・各ユーザーは「契約開始日」以降のデータだけを残す  \n",
    "　・契約開始日以前にログインしていることが考えられるため"
   ]
  },
  {
   "cell_type": "code",
   "execution_count": 108,
   "metadata": {},
   "outputs": [],
   "source": [
    "daily_user_logs = pd.merge(\n",
    "    daily_user_logs,\n",
    "    domain_user_maps[['domain_id', 'user_id', 'privilege', 'contract_start_date']],\n",
    "    on='user_id', how='inner'\n",
    ").query('date >= contract_start_date', engine='python')"
   ]
  },
  {
   "cell_type": "markdown",
   "metadata": {},
   "source": [
    "## 月別ログインユーザー数の集計"
   ]
  },
  {
   "cell_type": "markdown",
   "metadata": {},
   "source": [
    "・変数の間、「,」のあとは基本的には「スペース」を入れる  \n",
    "　・可読性が上がるため  \n",
    "・「merge」するさいは、引数「how」を明示したほうが良い  \n",
    "　・明示しない場合に意図しない結合の仕方になってしまうことがある  "
   ]
  },
  {
   "cell_type": "markdown",
   "metadata": {},
   "source": [
    "### 月別ログイン数"
   ]
  },
  {
   "cell_type": "markdown",
   "metadata": {},
   "source": [
    "・グラフのラベル付を行う場合は、変数の値を使うようにする  \n",
    "　・集計対象日が変わっても自動的に対応するため  \n",
    "・月のラベルを指定する際は、西暦をつけたほうが良い  \n",
    "　・資料を見る人にとって誤読しないようにするため  \n",
    "・データフレームの加工において、キーチェーンでかくとよい  \n",
    "　・処理を「.」でつなげることで直感的に、労力なくデータの加工ができる"
   ]
  },
  {
   "cell_type": "code",
   "execution_count": 109,
   "metadata": {},
   "outputs": [
    {
     "data": {
      "text/html": [
       "<div>\n",
       "<style scoped>\n",
       "    .dataframe tbody tr th:only-of-type {\n",
       "        vertical-align: middle;\n",
       "    }\n",
       "\n",
       "    .dataframe tbody tr th {\n",
       "        vertical-align: top;\n",
       "    }\n",
       "\n",
       "    .dataframe thead th {\n",
       "        text-align: right;\n",
       "    }\n",
       "</style>\n",
       "<table border=\"1\" class=\"dataframe\">\n",
       "  <thead>\n",
       "    <tr style=\"text-align: right;\">\n",
       "      <th></th>\n",
       "      <th>month</th>\n",
       "      <th>login_uu</th>\n",
       "    </tr>\n",
       "  </thead>\n",
       "  <tbody>\n",
       "    <tr>\n",
       "      <th>0</th>\n",
       "      <td>2022年03月</td>\n",
       "      <td>3019</td>\n",
       "    </tr>\n",
       "    <tr>\n",
       "      <th>1</th>\n",
       "      <td>2022年04月</td>\n",
       "      <td>3344</td>\n",
       "    </tr>\n",
       "    <tr>\n",
       "      <th>2</th>\n",
       "      <td>2022年05月</td>\n",
       "      <td>3561</td>\n",
       "    </tr>\n",
       "    <tr>\n",
       "      <th>3</th>\n",
       "      <td>2022年06月</td>\n",
       "      <td>3819</td>\n",
       "    </tr>\n",
       "    <tr>\n",
       "      <th>4</th>\n",
       "      <td>2022年07月</td>\n",
       "      <td>3779</td>\n",
       "    </tr>\n",
       "    <tr>\n",
       "      <th>5</th>\n",
       "      <td>2022年08月</td>\n",
       "      <td>3899</td>\n",
       "    </tr>\n",
       "    <tr>\n",
       "      <th>6</th>\n",
       "      <td>2022年09月</td>\n",
       "      <td>4021</td>\n",
       "    </tr>\n",
       "    <tr>\n",
       "      <th>7</th>\n",
       "      <td>2022年10月</td>\n",
       "      <td>4072</td>\n",
       "    </tr>\n",
       "  </tbody>\n",
       "</table>\n",
       "</div>"
      ],
      "text/plain": [
       "      month  login_uu\n",
       "0  2022年03月      3019\n",
       "1  2022年04月      3344\n",
       "2  2022年05月      3561\n",
       "3  2022年06月      3819\n",
       "4  2022年07月      3779\n",
       "5  2022年08月      3899\n",
       "6  2022年09月      4021\n",
       "7  2022年10月      4072"
      ]
     },
     "execution_count": 109,
     "metadata": {},
     "output_type": "execute_result"
    }
   ],
   "source": [
    "plot_data = daily_user_logs.query('login_web == 1', engine='python').assign(\n",
    "    month=lambda x: x.date.map(lambda y: dt.datetime.strptime(\n",
    "        y, '%Y-%m-%d'\n",
    "    ).strftime('%Y-%m'))\n",
    ").query(f'month <= \"{plus_month(target_day, -1)}\"', engine='python').groupby(\n",
    "    'month'\n",
    ")['user_id'].nunique().reset_index().rename(columns={'user_id': 'login_uu'}).assign(\n",
    "    month=lambda x: x.month.map(lambda y: dt.datetime.strptime(y, '%Y-%m').strftime('%Y年%m月'))\n",
    ")\n",
    "plot_data"
   ]
  },
  {
   "cell_type": "code",
   "execution_count": 110,
   "metadata": {},
   "outputs": [
    {
     "data": {
      "image/png": "[encoded data removed]",
      "text/plain": [
       "<Figure size 800x500 with 1 Axes>"
      ]
     },
     "metadata": {},
     "output_type": "display_data"
    }
   ],
   "source": [
    "plt.figure(figsize=(8, 5), facecolor='white')\n",
    "plt.bar(plot_data['month'], plot_data['login_uu'], align=\"center\", width=0.8)\n",
    "plt.title(\"月別ログインユーザー数\", fontsize=18, weight='bold')\n",
    "plt.ylim(0, plot_data['login_uu'].max() * 1.1)\n",
    "plt.xticks(rotation=20, fontsize=12)\n",
    "for tick in plt.yticks()[0]:\n",
    "    plt.axhline(tick, color='grey', alpha=0.1)\n",
    "for i, value in enumerate(plot_data['login_uu']):\n",
    "    plt.annotate(\n",
    "        value, (i, value / 2),\n",
    "        fontsize=14, weight='bold', ha='center',\n",
    "        color='white', fontfamily='monospace'\n",
    "    )\n",
    "plt.tight_layout()\n",
    "plt.savefig(result_dir_path.joinpath('login_uu_montly_trend.png'), dpi=300)"
   ]
  },
  {
   "cell_type": "markdown",
   "metadata": {},
   "source": [
    "### 月別ログイン日数でのグループ"
   ]
  },
  {
   "cell_type": "markdown",
   "metadata": {},
   "source": [
    "グラフのための加工の仕方  \n",
    "① 「group_by」を使って月別ユーザーごとのログイン日数を求める  \n",
    "②　「utility.py」の「add_group_num」関数を使ってログイン日数によるグループ番号を付与  \n",
    "③　月別ログイン日数グループごとのユーザ数を求める  \n",
    "④　積み上げ棒グラフ用に各月の累積ログイン日数を集計  "
   ]
  },
  {
   "cell_type": "code",
   "execution_count": 118,
   "metadata": {},
   "outputs": [
    {
     "data": {
      "text/html": [
       "<div>\n",
       "<style scoped>\n",
       "    .dataframe tbody tr th:only-of-type {\n",
       "        vertical-align: middle;\n",
       "    }\n",
       "\n",
       "    .dataframe tbody tr th {\n",
       "        vertical-align: top;\n",
       "    }\n",
       "\n",
       "    .dataframe thead th {\n",
       "        text-align: right;\n",
       "    }\n",
       "</style>\n",
       "<table border=\"1\" class=\"dataframe\">\n",
       "  <thead>\n",
       "    <tr style=\"text-align: right;\">\n",
       "      <th></th>\n",
       "      <th>month</th>\n",
       "      <th>group_num</th>\n",
       "      <th>group_name</th>\n",
       "      <th>login_uu</th>\n",
       "      <th>total_login_uu</th>\n",
       "      <th>login_rate</th>\n",
       "      <th>accumulated_value</th>\n",
       "    </tr>\n",
       "  </thead>\n",
       "  <tbody>\n",
       "    <tr>\n",
       "      <th>0</th>\n",
       "      <td>2022年03月</td>\n",
       "      <td>0</td>\n",
       "      <td>1日</td>\n",
       "      <td>402</td>\n",
       "      <td>3019</td>\n",
       "      <td>0.133157</td>\n",
       "      <td>402</td>\n",
       "    </tr>\n",
       "    <tr>\n",
       "      <th>1</th>\n",
       "      <td>2022年03月</td>\n",
       "      <td>1</td>\n",
       "      <td>2 ~ 10日</td>\n",
       "      <td>1399</td>\n",
       "      <td>3019</td>\n",
       "      <td>0.463398</td>\n",
       "      <td>1801</td>\n",
       "    </tr>\n",
       "    <tr>\n",
       "      <th>2</th>\n",
       "      <td>2022年03月</td>\n",
       "      <td>2</td>\n",
       "      <td>11 ~ 20日</td>\n",
       "      <td>1133</td>\n",
       "      <td>3019</td>\n",
       "      <td>0.375290</td>\n",
       "      <td>2934</td>\n",
       "    </tr>\n",
       "    <tr>\n",
       "      <th>3</th>\n",
       "      <td>2022年03月</td>\n",
       "      <td>3</td>\n",
       "      <td>21日 ~</td>\n",
       "      <td>85</td>\n",
       "      <td>3019</td>\n",
       "      <td>0.028155</td>\n",
       "      <td>3019</td>\n",
       "    </tr>\n",
       "    <tr>\n",
       "      <th>4</th>\n",
       "      <td>2022年04月</td>\n",
       "      <td>0</td>\n",
       "      <td>1日</td>\n",
       "      <td>413</td>\n",
       "      <td>3344</td>\n",
       "      <td>0.123505</td>\n",
       "      <td>413</td>\n",
       "    </tr>\n",
       "    <tr>\n",
       "      <th>5</th>\n",
       "      <td>2022年04月</td>\n",
       "      <td>1</td>\n",
       "      <td>2 ~ 10日</td>\n",
       "      <td>1530</td>\n",
       "      <td>3344</td>\n",
       "      <td>0.457536</td>\n",
       "      <td>1943</td>\n",
       "    </tr>\n",
       "    <tr>\n",
       "      <th>6</th>\n",
       "      <td>2022年04月</td>\n",
       "      <td>2</td>\n",
       "      <td>11 ~ 20日</td>\n",
       "      <td>1203</td>\n",
       "      <td>3344</td>\n",
       "      <td>0.359749</td>\n",
       "      <td>3146</td>\n",
       "    </tr>\n",
       "    <tr>\n",
       "      <th>7</th>\n",
       "      <td>2022年04月</td>\n",
       "      <td>3</td>\n",
       "      <td>21日 ~</td>\n",
       "      <td>198</td>\n",
       "      <td>3344</td>\n",
       "      <td>0.059211</td>\n",
       "      <td>3344</td>\n",
       "    </tr>\n",
       "    <tr>\n",
       "      <th>8</th>\n",
       "      <td>2022年05月</td>\n",
       "      <td>0</td>\n",
       "      <td>1日</td>\n",
       "      <td>432</td>\n",
       "      <td>3561</td>\n",
       "      <td>0.121314</td>\n",
       "      <td>432</td>\n",
       "    </tr>\n",
       "    <tr>\n",
       "      <th>9</th>\n",
       "      <td>2022年05月</td>\n",
       "      <td>1</td>\n",
       "      <td>2 ~ 10日</td>\n",
       "      <td>1747</td>\n",
       "      <td>3561</td>\n",
       "      <td>0.490593</td>\n",
       "      <td>2179</td>\n",
       "    </tr>\n",
       "  </tbody>\n",
       "</table>\n",
       "</div>"
      ],
      "text/plain": [
       "      month  group_num group_name  login_uu  total_login_uu  login_rate  \\\n",
       "0  2022年03月          0         1日       402            3019    0.133157   \n",
       "1  2022年03月          1    2 ~ 10日      1399            3019    0.463398   \n",
       "2  2022年03月          2   11 ~ 20日      1133            3019    0.375290   \n",
       "3  2022年03月          3      21日 ~        85            3019    0.028155   \n",
       "4  2022年04月          0         1日       413            3344    0.123505   \n",
       "5  2022年04月          1    2 ~ 10日      1530            3344    0.457536   \n",
       "6  2022年04月          2   11 ~ 20日      1203            3344    0.359749   \n",
       "7  2022年04月          3      21日 ~       198            3344    0.059211   \n",
       "8  2022年05月          0         1日       432            3561    0.121314   \n",
       "9  2022年05月          1    2 ~ 10日      1747            3561    0.490593   \n",
       "\n",
       "   accumulated_value  \n",
       "0                402  \n",
       "1               1801  \n",
       "2               2934  \n",
       "3               3019  \n",
       "4                413  \n",
       "5               1943  \n",
       "6               3146  \n",
       "7               3344  \n",
       "8                432  \n",
       "9               2179  "
      ]
     },
     "execution_count": 118,
     "metadata": {},
     "output_type": "execute_result"
    }
   ],
   "source": [
    "plot_data = daily_user_logs.query('login_web == 1', engine='python').assign(\n",
    "    month=lambda x: x.date.map(lambda y: dt.datetime.strptime(\n",
    "        y, '%Y-%m-%d'\n",
    "    ).strftime('%Y-%m'))\n",
    ").query(f'month <= \"{plus_month(target_day, -1)}\"', engine='python').groupby(\n",
    "    ['month', 'user_id']\n",
    ")['date'].nunique().reset_index().rename(columns={'date': 'n_login_day'})\n",
    "\n",
    "plot_data = add_group_num(\n",
    "    data=plot_data,\n",
    "    col_name='n_login_day',\n",
    "    group_values=[1, 2, 11, 21, float('Inf')],\n",
    "    unit='日'\n",
    ").groupby(['month', 'group_num', 'group_name'])['user_id'].nunique().reset_index().rename(columns={'user_id': 'login_uu'}).assign(\n",
    "    month=lambda x: x.month.map(lambda y: dt.datetime.strptime(y, '%Y-%m').strftime('%Y年%m月'))\n",
    ")\n",
    "plot_data['total_login_uu'] = plot_data.groupby('month')['login_uu'].transform('sum')\n",
    "plot_data = plot_data.assign(login_rate=lambda x: x.login_uu / x.total_login_uu).sort_values(['month', 'group_num'])\n",
    "plot_data['accumulated_value'] = plot_data.groupby('month')['login_uu'].transform('cumsum')\n",
    "plot_data.head(10)\n"
   ]
  },
  {
   "cell_type": "code",
   "execution_count": 119,
   "metadata": {},
   "outputs": [
    {
     "data": {
      "image/png": "[encoded data removed]",
      "text/plain": [
       "<Figure size 1000x600 with 1 Axes>"
      ]
     },
     "metadata": {},
     "output_type": "display_data"
    }
   ],
   "source": [
    "\n",
    "fig = plt.figure(figsize=(10, 6), facecolor='white')\n",
    "for i, group_name in enumerate(plot_data['group_name'].unique()):\n",
    "    plot_data_target = plot_data.query(f'group_name == \"{group_name}\"', engine='python')\n",
    "    if i == 0:\n",
    "        plt.bar(plot_data_target['month'], plot_data_target['login_uu'], label=group_name)\n",
    "    else:\n",
    "        plt.bar(\n",
    "            plot_data_target['month'], plot_data_target['login_uu'],\n",
    "            bottom=plot_data_target['accumulated_value'] - plot_data_target['login_uu'],\n",
    "            label=group_name\n",
    "        )\n",
    "plt.title('月別ログイン日数分布', fontsize=18, weight='bold')\n",
    "plt.legend(bbox_to_anchor=(0, 1), loc='upper left', borderaxespad=0)\n",
    "plt.xticks(fontsize=12, rotation=20)\n",
    "plt.ylabel(\"ログインユーザー数\", fontsize=12)\n",
    "plt.ylim(0,4500)\n",
    "\n",
    "for tick in plt.yticks()[0]:\n",
    "    plt.axhline(tick, color='grey', alpha=0.1)\n",
    "\n",
    "for group_num in plot_data['group_num']:\n",
    "    plot_data_target = plot_data.query(f'group_num == {group_num}', engine='python').reset_index(drop=True)\n",
    "    for i in range(len(plot_data_target)):\n",
    "        value = plot_data_target.iloc[i]['login_rate']\n",
    "        y_pozi = plot_data_target.iloc[i]['accumulated_value'] - plot_data_target.iloc[i]['login_uu'] / 2              \n",
    "        plt.annotate(\n",
    "            f'{int(value * 100)}%',\n",
    "            xy=(i, y_pozi), xytext=(i, y_pozi),\n",
    "            fontweight='bold', fontsize=16, fontfamily='monospace',\n",
    "            color='white', ha='center', va='center'\n",
    "        )\n",
    "plt.tight_layout()\n",
    "plt.savefig(result_dir_path.joinpath('login_uu_monthly_trend_login_group.png'), dpi=300)"
   ]
  }
 ],
 "metadata": {
  "kernelspec": {
   "display_name": "Python 3.9.13 ('base')",
   "language": "python",
   "name": "python3"
  },
  "language_info": {
   "codemirror_mode": {
    "name": "ipython",
    "version": 3
   },
   "file_extension": ".py",
   "mimetype": "text/x-python",
   "name": "python",
   "nbconvert_exporter": "python",
   "pygments_lexer": "ipython3",
   "version": "3.9.13"
  },
  "orig_nbformat": 4,
  "vscode": {
   "interpreter": {
    "hash": "80a44aec4490677102d10e555e7a6747f64d7319287dd525acb6ca3390c97a10"
   }
  }
 },
 "nbformat": 4,
 "nbformat_minor": 2
}
